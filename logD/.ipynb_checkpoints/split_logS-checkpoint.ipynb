{
 "cells": [
  {
   "cell_type": "code",
   "execution_count": 1,
   "metadata": {},
   "outputs": [],
   "source": [
    "import pandas as pd"
   ]
  },
  {
   "cell_type": "code",
   "execution_count": 2,
   "metadata": {},
   "outputs": [],
   "source": [
    "dataset = pd.read_csv(\"./logD74.csv\")"
   ]
  },
  {
   "cell_type": "code",
   "execution_count": 5,
   "metadata": {},
   "outputs": [
    {
     "name": "stderr",
     "output_type": "stream",
     "text": [
      "/home/yuanyuan/soft/anaconda3/envs/ddc/lib/python3.6/site-packages/ipykernel_launcher.py:6: SettingWithCopyWarning: \n",
      "A value is trying to be set on a copy of a slice from a DataFrame\n",
      "\n",
      "See the caveats in the documentation: https://pandas.pydata.org/pandas-docs/stable/user_guide/indexing.html#returning-a-view-versus-a-copy\n",
      "  \n"
     ]
    }
   ],
   "source": [
    "from rdkit import Chem\n",
    "dataset[\"smiles\"]=''\n",
    "for idx ,smiles in enumerate(dataset[\"SMILES\"]):\n",
    "    mol = Chem.MolFromSmiles(smiles)\n",
    "    smi = Chem.MolToSmiles(mol)\n",
    "    dataset[\"smiles\"][idx]=smi"
   ]
  },
  {
   "cell_type": "code",
   "execution_count": 9,
   "metadata": {},
   "outputs": [
    {
     "data": {
      "text/plain": [
       "Br.CN1[C@H]2CC[C@@H]1CC(OC(=O)C(O)c1ccccc1)C2                                                                      20\n",
       "COc1ccc(Cl)cc1C(=O)NCCc1ccc(S(=O)(=O)NC(=O)NC2CCCCC2)cc1                                                           20\n",
       "CN1CC[C@]23c4c5ccc(OCCN6CCOCC6)c4O[C@H]2[C@@H](O)C=C[C@H]3[C@H]1C5                                                 20\n",
       "CC(=O)O[C@@H]1C[C@H]2[C@@H]3CC[C@H]([C@H](C)CCCC(C)C)[C@@]3(C)CC[C@@H]2[C@@]2(C)CC[C@H](OC(=O)CCC(=O)O)C[C@]12O    20\n",
       "CCc1ccccc1C(=O)Oc1ccc(N(CCBr)CCBr)cc1                                                                              20\n",
       "                                                                                                                   ..\n",
       "CNCCN                                                                                                               4\n",
       "I/C=C/I                                                                                                             3\n",
       "CC1OC(C)OC(C)O1                                                                                                     3\n",
       "Cc1c(C)c(C)c(C)c(C)c1C                                                                                              2\n",
       "CC(C)C                                                                                                              2\n",
       "Name: smiles, Length: 995, dtype: int64"
      ]
     },
     "execution_count": 9,
     "metadata": {},
     "output_type": "execute_result"
    }
   ],
   "source": [
    "dataset[\"smiles\"].value_counts()"
   ]
  },
  {
   "cell_type": "code",
   "execution_count": 6,
   "metadata": {},
   "outputs": [],
   "source": [
    "dataset = dataset.sample(frac=1).reset_index(drop=True)"
   ]
  },
  {
   "cell_type": "code",
   "execution_count": 10,
   "metadata": {},
   "outputs": [
    {
     "data": {
      "text/plain": [
       "smiles\n",
       "Br.Br.CC/N=C(/N)SCCN                                             -0.846596\n",
       "Br.CC(N)Cc1ccc(O)cc1                                              0.009034\n",
       "Br.CCC1(c2ccccc2)C(=O)N(C)C(=O)N(CNC(N)=S)C1=O                   -2.651288\n",
       "Br.CCN1CC[C@]23CCCC[C@H]2[C@H]1Cc1ccc(O)cc13                     -3.033715\n",
       "Br.CN1[C@H]2CC(OC(=O)[C@H](CO)c3ccccc3)C[C@@H]1[C@H]1O[C@@H]21    0.238838\n",
       "                                                                    ...   \n",
       "c1ccc2c(c1)OCCO2                                                 -1.911822\n",
       "c1ccc2c(c1)Sc1ccccc1N2CC1CN2CCC1CC2                              -5.887625\n",
       "c1ccc2c(c1)cc1ccc3cccc4ccc2c1c34                                 -8.190000\n",
       "c1ccc2c(c1)ccc1ncccc12                                           -3.360000\n",
       "c1ccc2c(c1)sc1ccccc12                                            -4.380000\n",
       "Name: logS, Length: 995, dtype: float64"
      ]
     },
     "execution_count": 10,
     "metadata": {},
     "output_type": "execute_result"
    }
   ],
   "source": [
    "dataset.groupby(\"smiles\")[\"logS\"].mean()"
   ]
  },
  {
   "cell_type": "code",
   "execution_count": 4,
   "metadata": {},
   "outputs": [],
   "source": [
    "dataset.drop(labels=[\"Unnamed: 0\"],axis=1,inplace=True)"
   ]
  },
  {
   "cell_type": "code",
   "execution_count": 3,
   "metadata": {},
   "outputs": [
    {
     "data": {
      "text/html": [
       "<div>\n",
       "<style scoped>\n",
       "    .dataframe tbody tr th:only-of-type {\n",
       "        vertical-align: middle;\n",
       "    }\n",
       "\n",
       "    .dataframe tbody tr th {\n",
       "        vertical-align: top;\n",
       "    }\n",
       "\n",
       "    .dataframe thead th {\n",
       "        text-align: right;\n",
       "    }\n",
       "</style>\n",
       "<table border=\"1\" class=\"dataframe\">\n",
       "  <thead>\n",
       "    <tr style=\"text-align: right;\">\n",
       "      <th></th>\n",
       "      <th>NO</th>\n",
       "      <th>SMILES structure</th>\n",
       "      <th>experimental logD7.4</th>\n",
       "    </tr>\n",
       "  </thead>\n",
       "  <tbody>\n",
       "    <tr>\n",
       "      <th>0</th>\n",
       "      <td>A-logD7.4-100</td>\n",
       "      <td>Fc1cc2c(N(C=C(C(O)=O)C2=O)C2CC2)cc1N1CCNCC1</td>\n",
       "      <td>-0.960</td>\n",
       "    </tr>\n",
       "    <tr>\n",
       "      <th>1</th>\n",
       "      <td>A-logD7.4-101</td>\n",
       "      <td>S1(=O)(=O)N(CCN1C)c1cc2c([nH]cc2CCN(C)C)cc1</td>\n",
       "      <td>-0.920</td>\n",
       "    </tr>\n",
       "    <tr>\n",
       "      <th>2</th>\n",
       "      <td>A-logD7.4-104</td>\n",
       "      <td>OC=1C(=O)C=CN(CCCO)C=1C</td>\n",
       "      <td>-0.900</td>\n",
       "    </tr>\n",
       "    <tr>\n",
       "      <th>3</th>\n",
       "      <td>A-logD7.4-105</td>\n",
       "      <td>Fc1cc2c(N(C=C(C(O)=O)C2=O)c2ccccc2C)cc1N1CCNCC1</td>\n",
       "      <td>-0.830</td>\n",
       "    </tr>\n",
       "    <tr>\n",
       "      <th>4</th>\n",
       "      <td>A-logD7.4-106</td>\n",
       "      <td>OC=1C(=O)C=CN(CCC(=O)NCC)C=1C</td>\n",
       "      <td>-0.820</td>\n",
       "    </tr>\n",
       "    <tr>\n",
       "      <th>...</th>\n",
       "      <td>...</td>\n",
       "      <td>...</td>\n",
       "      <td>...</td>\n",
       "    </tr>\n",
       "    <tr>\n",
       "      <th>1125</th>\n",
       "      <td>O-88</td>\n",
       "      <td>O(CC(O)CNC(C)C)c1ccccc1CC=C</td>\n",
       "      <td>1.000</td>\n",
       "    </tr>\n",
       "    <tr>\n",
       "      <th>1126</th>\n",
       "      <td>O-9</td>\n",
       "      <td>O1CCC[C@H]1C(=O)N1CCN(CC1)c1nc(N)c2cc(OC)c(OC)...</td>\n",
       "      <td>1.140</td>\n",
       "    </tr>\n",
       "    <tr>\n",
       "      <th>1127</th>\n",
       "      <td>O-94</td>\n",
       "      <td>O1c2c(C=CC1=O)cccc2</td>\n",
       "      <td>1.415</td>\n",
       "    </tr>\n",
       "    <tr>\n",
       "      <th>1128</th>\n",
       "      <td>O-97</td>\n",
       "      <td>Clc1cccc(Cl)c1C=NN=C(N)N</td>\n",
       "      <td>1.670</td>\n",
       "    </tr>\n",
       "    <tr>\n",
       "      <th>1129</th>\n",
       "      <td>O-98</td>\n",
       "      <td>OC1(CCC2C3C(C4(C(=CC(=O)CC4)CC3)C)C(O)CC12C)C(...</td>\n",
       "      <td>1.530</td>\n",
       "    </tr>\n",
       "  </tbody>\n",
       "</table>\n",
       "<p>1130 rows × 3 columns</p>\n",
       "</div>"
      ],
      "text/plain": [
       "                 NO                                   SMILES structure  \\\n",
       "0     A-logD7.4-100        Fc1cc2c(N(C=C(C(O)=O)C2=O)C2CC2)cc1N1CCNCC1   \n",
       "1     A-logD7.4-101        S1(=O)(=O)N(CCN1C)c1cc2c([nH]cc2CCN(C)C)cc1   \n",
       "2     A-logD7.4-104                            OC=1C(=O)C=CN(CCCO)C=1C   \n",
       "3     A-logD7.4-105    Fc1cc2c(N(C=C(C(O)=O)C2=O)c2ccccc2C)cc1N1CCNCC1   \n",
       "4     A-logD7.4-106                      OC=1C(=O)C=CN(CCC(=O)NCC)C=1C   \n",
       "...             ...                                                ...   \n",
       "1125           O-88                        O(CC(O)CNC(C)C)c1ccccc1CC=C   \n",
       "1126            O-9  O1CCC[C@H]1C(=O)N1CCN(CC1)c1nc(N)c2cc(OC)c(OC)...   \n",
       "1127           O-94                                O1c2c(C=CC1=O)cccc2   \n",
       "1128           O-97                           Clc1cccc(Cl)c1C=NN=C(N)N   \n",
       "1129           O-98  OC1(CCC2C3C(C4(C(=CC(=O)CC4)CC3)C)C(O)CC12C)C(...   \n",
       "\n",
       "      experimental logD7.4  \n",
       "0                   -0.960  \n",
       "1                   -0.920  \n",
       "2                   -0.900  \n",
       "3                   -0.830  \n",
       "4                   -0.820  \n",
       "...                    ...  \n",
       "1125                 1.000  \n",
       "1126                 1.140  \n",
       "1127                 1.415  \n",
       "1128                 1.670  \n",
       "1129                 1.530  \n",
       "\n",
       "[1130 rows x 3 columns]"
      ]
     },
     "execution_count": 3,
     "metadata": {},
     "output_type": "execute_result"
    }
   ],
   "source": [
    "dataset"
   ]
  },
  {
   "cell_type": "code",
   "execution_count": 4,
   "metadata": {},
   "outputs": [],
   "source": [
    "n = int(len(dataset)*0.8)\n",
    "m = int(len(dataset)*0.9)\n",
    "trainset = dataset[:n][:]\n",
    "valset = dataset[n:m][:]\n",
    "testset = dataset[m:][:]"
   ]
  },
  {
   "cell_type": "code",
   "execution_count": 5,
   "metadata": {},
   "outputs": [],
   "source": [
    "trainset.to_csv(\"./trainset.csv\",index=None)\n",
    "valset.to_csv(\"./valset.csv\",index=None)\n",
    "testset.to_csv(\"./testset.csv\",index=None)"
   ]
  },
  {
   "cell_type": "code",
   "execution_count": 3,
   "metadata": {},
   "outputs": [],
   "source": [
    "from SmilesEnumerator import SmilesEnumerator\n",
    "sme = SmilesEnumerator()\n",
    "import pandas as pd\n",
    "import numpy as np\n",
    "dataset = pd.read_csv(\"./test/aug20/cano/trainset_can.csv\")"
   ]
  },
  {
   "cell_type": "code",
   "execution_count": 4,
   "metadata": {},
   "outputs": [],
   "source": [
    "with open(\"./\",\"w\") as file:\n",
    "    file.write(\"Compound ID,SMILES,logP\"+\"\\n\")\n",
    "    for index,smi in enumerate(dataset[\"smiles\"]):\n",
    "        for i in range(40):    \n",
    "            file.write(dataset[\"Compound ID\"][index]+\",\"+sme.randomize_smiles(smi)+\",\"+str(dataset[\"logP\"][index])+\"\\n\")"
   ]
  },
  {
   "cell_type": "code",
   "execution_count": 5,
   "metadata": {},
   "outputs": [],
   "source": [
    "dataset = pd.read_csv(\"./test/aug20/cano/valset_can.csv\")\n",
    "with open(\"./test/aug20/40/val_aug40_logP.csv\",\"w\") as file:\n",
    "    file.write(\"Compound ID,SMILES,logP\"+\"\\n\")\n",
    "    for index,smi in enumerate(dataset[\"smiles\"]):\n",
    "        for i in range(40):    \n",
    "            file.write(dataset[\"Compound ID\"][index]+\",\"+sme.randomize_smiles(smi)+\",\"+str(dataset[\"logP\"][index])+\"\\n\")"
   ]
  },
  {
   "cell_type": "code",
   "execution_count": 6,
   "metadata": {},
   "outputs": [],
   "source": [
    "dataset = pd.read_csv(\"./test/aug20/cano/testset_can.csv\")\n",
    "with open(\"./test/aug20/40/test_aug40_logP.csv\",\"w\") as file:\n",
    "    file.write(\"Compound ID,SMILES,logP\"+\"\\n\")\n",
    "    for index,smi in enumerate(dataset[\"smiles\"]):\n",
    "        for i in range(40):    \n",
    "            file.write(dataset[\"Compound ID\"][index]+\",\"+sme.randomize_smiles(smi)+\",\"+str(dataset[\"logP\"][index])+\"\\n\")"
   ]
  },
  {
   "cell_type": "code",
   "execution_count": 7,
   "metadata": {},
   "outputs": [],
   "source": [
    "def tool( x):\n",
    "    import re\n",
    "    token_regex = \"(\\[[^\\]]+]|Br?|Cl?|N|O|S|P|F|I|b|c|n|o|s|p|\\(|\\)|\\.|=|#||\\+|\\\\\\\\\\/|:||@|\\?|>|\\*|\\$|\\%[0–9]{2}|[0–9])\"\n",
    "    x = re.split(token_regex, x.strip())\n",
    "    l = []\n",
    "    for i in x:\n",
    "        if i != '':\n",
    "            l.append(i)\n",
    "    return \" \".join(l)"
   ]
  },
  {
   "cell_type": "code",
   "execution_count": 8,
   "metadata": {},
   "outputs": [],
   "source": [
    "trainset = pd.read_csv(\"./test/aug20/40/trian_aug40_logP.csv\")"
   ]
  },
  {
   "cell_type": "code",
   "execution_count": 9,
   "metadata": {},
   "outputs": [
    {
     "data": {
      "text/html": [
       "<div>\n",
       "<style scoped>\n",
       "    .dataframe tbody tr th:only-of-type {\n",
       "        vertical-align: middle;\n",
       "    }\n",
       "\n",
       "    .dataframe tbody tr th {\n",
       "        vertical-align: top;\n",
       "    }\n",
       "\n",
       "    .dataframe thead th {\n",
       "        text-align: right;\n",
       "    }\n",
       "</style>\n",
       "<table border=\"1\" class=\"dataframe\">\n",
       "  <thead>\n",
       "    <tr style=\"text-align: right;\">\n",
       "      <th></th>\n",
       "      <th>Compound ID</th>\n",
       "      <th>SMILES</th>\n",
       "      <th>logP</th>\n",
       "    </tr>\n",
       "  </thead>\n",
       "  <tbody>\n",
       "    <tr>\n",
       "      <th>0</th>\n",
       "      <td>C4659</td>\n",
       "      <td>CC(COC(NC(C)C)=O)(COC(N)=O)CCCC</td>\n",
       "      <td>3.5040</td>\n",
       "    </tr>\n",
       "    <tr>\n",
       "      <th>1</th>\n",
       "      <td>C4659</td>\n",
       "      <td>CC(NC(OCC(COC(=O)N)(C)CCCC)=O)C</td>\n",
       "      <td>3.5040</td>\n",
       "    </tr>\n",
       "    <tr>\n",
       "      <th>2</th>\n",
       "      <td>C4659</td>\n",
       "      <td>O=C(NC(C)C)OCC(C)(COC(N)=O)CCCC</td>\n",
       "      <td>3.5040</td>\n",
       "    </tr>\n",
       "    <tr>\n",
       "      <th>3</th>\n",
       "      <td>C4659</td>\n",
       "      <td>O=C(OCC(C)(CCCC)COC(=O)N)NC(C)C</td>\n",
       "      <td>3.5040</td>\n",
       "    </tr>\n",
       "    <tr>\n",
       "      <th>4</th>\n",
       "      <td>C4659</td>\n",
       "      <td>C(=O)(OCC(C)(COC(=O)N)CCCC)NC(C)C</td>\n",
       "      <td>3.5040</td>\n",
       "    </tr>\n",
       "    <tr>\n",
       "      <th>...</th>\n",
       "      <td>...</td>\n",
       "      <td>...</td>\n",
       "      <td>...</td>\n",
       "    </tr>\n",
       "    <tr>\n",
       "      <th>318155</th>\n",
       "      <td>C8547</td>\n",
       "      <td>c12c(=O)[nH]sc1cccc2</td>\n",
       "      <td>1.5896</td>\n",
       "    </tr>\n",
       "    <tr>\n",
       "      <th>318156</th>\n",
       "      <td>C8547</td>\n",
       "      <td>s1[nH]c(=O)c2ccccc12</td>\n",
       "      <td>1.5896</td>\n",
       "    </tr>\n",
       "    <tr>\n",
       "      <th>318157</th>\n",
       "      <td>C8547</td>\n",
       "      <td>c12c(cccc1)s[nH]c2=O</td>\n",
       "      <td>1.5896</td>\n",
       "    </tr>\n",
       "    <tr>\n",
       "      <th>318158</th>\n",
       "      <td>C8547</td>\n",
       "      <td>c1cc2c(s[nH]c2=O)cc1</td>\n",
       "      <td>1.5896</td>\n",
       "    </tr>\n",
       "    <tr>\n",
       "      <th>318159</th>\n",
       "      <td>C8547</td>\n",
       "      <td>c1c2c(c(=O)[nH]s2)ccc1</td>\n",
       "      <td>1.5896</td>\n",
       "    </tr>\n",
       "  </tbody>\n",
       "</table>\n",
       "<p>318160 rows × 3 columns</p>\n",
       "</div>"
      ],
      "text/plain": [
       "       Compound ID                             SMILES    logP\n",
       "0            C4659    CC(COC(NC(C)C)=O)(COC(N)=O)CCCC  3.5040\n",
       "1            C4659    CC(NC(OCC(COC(=O)N)(C)CCCC)=O)C  3.5040\n",
       "2            C4659    O=C(NC(C)C)OCC(C)(COC(N)=O)CCCC  3.5040\n",
       "3            C4659    O=C(OCC(C)(CCCC)COC(=O)N)NC(C)C  3.5040\n",
       "4            C4659  C(=O)(OCC(C)(COC(=O)N)CCCC)NC(C)C  3.5040\n",
       "...            ...                                ...     ...\n",
       "318155       C8547               c12c(=O)[nH]sc1cccc2  1.5896\n",
       "318156       C8547               s1[nH]c(=O)c2ccccc12  1.5896\n",
       "318157       C8547               c12c(cccc1)s[nH]c2=O  1.5896\n",
       "318158       C8547               c1cc2c(s[nH]c2=O)cc1  1.5896\n",
       "318159       C8547             c1c2c(c(=O)[nH]s2)ccc1  1.5896\n",
       "\n",
       "[318160 rows x 3 columns]"
      ]
     },
     "execution_count": 9,
     "metadata": {},
     "output_type": "execute_result"
    }
   ],
   "source": [
    "trainset"
   ]
  },
  {
   "cell_type": "code",
   "execution_count": 10,
   "metadata": {},
   "outputs": [],
   "source": [
    "trainset.drop_duplicates([\"SMILES\"],keep=\"last\",inplace=True)"
   ]
  },
  {
   "cell_type": "code",
   "execution_count": 11,
   "metadata": {},
   "outputs": [],
   "source": [
    "trainset = trainset.sample(frac=1).reset_index(drop=True)"
   ]
  },
  {
   "cell_type": "code",
   "execution_count": 12,
   "metadata": {},
   "outputs": [
    {
     "name": "stderr",
     "output_type": "stream",
     "text": [
      "/home/yuanyuan/soft/anaconda3/envs/ddc/lib/python3.6/re.py:212: FutureWarning: split() requires a non-empty pattern match.\n",
      "  return _compile(pattern, flags).split(string, maxsplit)\n"
     ]
    }
   ],
   "source": [
    "trainset[\"smi\"] = trainset[\"SMILES\"].apply(tool)"
   ]
  },
  {
   "cell_type": "code",
   "execution_count": 13,
   "metadata": {},
   "outputs": [
    {
     "data": {
      "text/html": [
       "<div>\n",
       "<style scoped>\n",
       "    .dataframe tbody tr th:only-of-type {\n",
       "        vertical-align: middle;\n",
       "    }\n",
       "\n",
       "    .dataframe tbody tr th {\n",
       "        vertical-align: top;\n",
       "    }\n",
       "\n",
       "    .dataframe thead th {\n",
       "        text-align: right;\n",
       "    }\n",
       "</style>\n",
       "<table border=\"1\" class=\"dataframe\">\n",
       "  <thead>\n",
       "    <tr style=\"text-align: right;\">\n",
       "      <th></th>\n",
       "      <th>Compound ID</th>\n",
       "      <th>SMILES</th>\n",
       "      <th>logP</th>\n",
       "      <th>smi</th>\n",
       "    </tr>\n",
       "  </thead>\n",
       "  <tbody>\n",
       "    <tr>\n",
       "      <th>0</th>\n",
       "      <td>C2446</td>\n",
       "      <td>c1ccc(C(CCN2CCCCC2)(C2CCCCC2)O)cc1.Cl</td>\n",
       "      <td>5.0704</td>\n",
       "      <td>c 1 c c c ( C ( C C N 2 C C C C C 2 ) ( C 2 C ...</td>\n",
       "    </tr>\n",
       "    <tr>\n",
       "      <th>1</th>\n",
       "      <td>C4698</td>\n",
       "      <td>C(COc1ccc(CC(=O)NO)cc1CC)CC</td>\n",
       "      <td>2.8667</td>\n",
       "      <td>C ( C O c 1 c c c ( C C ( = O ) N O ) c c 1 C ...</td>\n",
       "    </tr>\n",
       "    <tr>\n",
       "      <th>2</th>\n",
       "      <td>C4561</td>\n",
       "      <td>C([NH+](C)C)CN1c2cc(Cl)ccc2OC(c2ccccc2)C1=O.[Cl-]</td>\n",
       "      <td>-0.9798</td>\n",
       "      <td>C ( [NH+] ( C ) C ) C N 1 c 2 c c ( Cl ) c c c...</td>\n",
       "    </tr>\n",
       "    <tr>\n",
       "      <th>3</th>\n",
       "      <td>C3531</td>\n",
       "      <td>C(CCC)CCCCCCCC[N+](Cc1ccccc1)(C)C.[Br-]</td>\n",
       "      <td>3.1879</td>\n",
       "      <td>C ( C C C ) C C C C C C C C [N+] ( C c 1 c c c...</td>\n",
       "    </tr>\n",
       "    <tr>\n",
       "      <th>4</th>\n",
       "      <td>C8406</td>\n",
       "      <td>C1=CN(C)/C(=C/[NH+]=O)N1COC/C=C\\c1ccccc1.[Cl-]</td>\n",
       "      <td>-2.6158</td>\n",
       "      <td>C 1 = C N ( C ) / C ( = C / [NH+] = O ) N 1 C ...</td>\n",
       "    </tr>\n",
       "    <tr>\n",
       "      <th>...</th>\n",
       "      <td>...</td>\n",
       "      <td>...</td>\n",
       "      <td>...</td>\n",
       "      <td>...</td>\n",
       "    </tr>\n",
       "    <tr>\n",
       "      <th>239549</th>\n",
       "      <td>C3252</td>\n",
       "      <td>c1(Cc2nc3ccccc3[nH]2)ccccc1</td>\n",
       "      <td>3.1537</td>\n",
       "      <td>c 1 ( C c 2 n c 3 c c c c c 3 [nH] 2 ) c c c c...</td>\n",
       "    </tr>\n",
       "    <tr>\n",
       "      <th>239550</th>\n",
       "      <td>C1429</td>\n",
       "      <td>O=C(OC)C(C)=C</td>\n",
       "      <td>0.7355</td>\n",
       "      <td>O = C ( O C ) C ( C ) = C</td>\n",
       "    </tr>\n",
       "    <tr>\n",
       "      <th>239551</th>\n",
       "      <td>C8734</td>\n",
       "      <td>c1cn([C@H]2[C@H](O)[C@H](O)[C@@H](CO)O2)c(=O)[...</td>\n",
       "      <td>-2.8519</td>\n",
       "      <td>c 1 c n ( [C@H] 2 [C@H] ( O ) [C@H] ( O ) [C@@...</td>\n",
       "    </tr>\n",
       "    <tr>\n",
       "      <th>239552</th>\n",
       "      <td>C9575</td>\n",
       "      <td>C[N+](CC1OC(C)OC1)(C)C.[I-]</td>\n",
       "      <td>-2.5420</td>\n",
       "      <td>C [N+] ( C C 1 O C ( C ) O C 1 ) ( C ) C . [I-]</td>\n",
       "    </tr>\n",
       "    <tr>\n",
       "      <th>239553</th>\n",
       "      <td>C8794</td>\n",
       "      <td>O=c1cc(C)[nH]nc1N(C)C</td>\n",
       "      <td>0.1443</td>\n",
       "      <td>O = c 1 c c ( C ) [nH] n c 1 N ( C ) C</td>\n",
       "    </tr>\n",
       "  </tbody>\n",
       "</table>\n",
       "<p>239554 rows × 4 columns</p>\n",
       "</div>"
      ],
      "text/plain": [
       "       Compound ID                                             SMILES    logP  \\\n",
       "0            C2446              c1ccc(C(CCN2CCCCC2)(C2CCCCC2)O)cc1.Cl  5.0704   \n",
       "1            C4698                        C(COc1ccc(CC(=O)NO)cc1CC)CC  2.8667   \n",
       "2            C4561  C([NH+](C)C)CN1c2cc(Cl)ccc2OC(c2ccccc2)C1=O.[Cl-] -0.9798   \n",
       "3            C3531            C(CCC)CCCCCCCC[N+](Cc1ccccc1)(C)C.[Br-]  3.1879   \n",
       "4            C8406     C1=CN(C)/C(=C/[NH+]=O)N1COC/C=C\\c1ccccc1.[Cl-] -2.6158   \n",
       "...            ...                                                ...     ...   \n",
       "239549       C3252                        c1(Cc2nc3ccccc3[nH]2)ccccc1  3.1537   \n",
       "239550       C1429                                      O=C(OC)C(C)=C  0.7355   \n",
       "239551       C8734  c1cn([C@H]2[C@H](O)[C@H](O)[C@@H](CO)O2)c(=O)[... -2.8519   \n",
       "239552       C9575                        C[N+](CC1OC(C)OC1)(C)C.[I-] -2.5420   \n",
       "239553       C8794                              O=c1cc(C)[nH]nc1N(C)C  0.1443   \n",
       "\n",
       "                                                      smi  \n",
       "0       c 1 c c c ( C ( C C N 2 C C C C C 2 ) ( C 2 C ...  \n",
       "1       C ( C O c 1 c c c ( C C ( = O ) N O ) c c 1 C ...  \n",
       "2       C ( [NH+] ( C ) C ) C N 1 c 2 c c ( Cl ) c c c...  \n",
       "3       C ( C C C ) C C C C C C C C [N+] ( C c 1 c c c...  \n",
       "4       C 1 = C N ( C ) / C ( = C / [NH+] = O ) N 1 C ...  \n",
       "...                                                   ...  \n",
       "239549  c 1 ( C c 2 n c 3 c c c c c 3 [nH] 2 ) c c c c...  \n",
       "239550                          O = C ( O C ) C ( C ) = C  \n",
       "239551  c 1 c n ( [C@H] 2 [C@H] ( O ) [C@H] ( O ) [C@@...  \n",
       "239552    C [N+] ( C C 1 O C ( C ) O C 1 ) ( C ) C . [I-]  \n",
       "239553             O = c 1 c c ( C ) [nH] n c 1 N ( C ) C  \n",
       "\n",
       "[239554 rows x 4 columns]"
      ]
     },
     "execution_count": 13,
     "metadata": {},
     "output_type": "execute_result"
    }
   ],
   "source": [
    "trainset"
   ]
  },
  {
   "cell_type": "code",
   "execution_count": 14,
   "metadata": {},
   "outputs": [],
   "source": [
    "trainset.to_csv(\"./test/aug20/40/train_aug40_logP.csv\")"
   ]
  },
  {
   "cell_type": "code",
   "execution_count": 17,
   "metadata": {},
   "outputs": [],
   "source": [
    "valset = pd.read_csv(\"./test/aug20/40/val_aug40_logP.csv\")\n",
    "valset.drop_duplicates([\"SMILES\"],keep=\"last\",inplace=True)\n",
    "valset = valset.sample(frac=1).reset_index(drop=True)\n",
    "valset[\"smi\"] = valset[\"SMILES\"].apply(tool)\n",
    "valset.to_csv(\"./test/aug20/40/val_aug40_cla_logP.csv\")"
   ]
  },
  {
   "cell_type": "code",
   "execution_count": 18,
   "metadata": {},
   "outputs": [],
   "source": [
    "testset = pd.read_csv(\"./test/aug20/40/test_aug40_logP.csv\")\n",
    "testset.drop_duplicates([\"SMILES\"],keep=\"last\",inplace=True)\n",
    "testset = testset.sample(frac=1).reset_index(drop=True)\n",
    "testset[\"smi\"] = testset[\"SMILES\"].apply(tool)\n",
    "testset.to_csv(\"./test/aug20/40/test_aug40_cla_logP.csv\")"
   ]
  },
  {
   "cell_type": "code",
   "execution_count": 19,
   "metadata": {},
   "outputs": [],
   "source": [
    "valset = pd.read_csv(\"./test/aug20/20/val_aug20_cla.csv\")"
   ]
  },
  {
   "cell_type": "code",
   "execution_count": 20,
   "metadata": {},
   "outputs": [
    {
     "data": {
      "text/html": [
       "<div>\n",
       "<style scoped>\n",
       "    .dataframe tbody tr th:only-of-type {\n",
       "        vertical-align: middle;\n",
       "    }\n",
       "\n",
       "    .dataframe tbody tr th {\n",
       "        vertical-align: top;\n",
       "    }\n",
       "\n",
       "    .dataframe thead th {\n",
       "        text-align: right;\n",
       "    }\n",
       "</style>\n",
       "<table border=\"1\" class=\"dataframe\">\n",
       "  <thead>\n",
       "    <tr style=\"text-align: right;\">\n",
       "      <th></th>\n",
       "      <th>Unnamed: 0</th>\n",
       "      <th>SMILES</th>\n",
       "      <th>logS</th>\n",
       "      <th>smi</th>\n",
       "    </tr>\n",
       "  </thead>\n",
       "  <tbody>\n",
       "    <tr>\n",
       "      <th>0</th>\n",
       "      <td>0</td>\n",
       "      <td>c1ccc(OC)c(NCC(=O)C)c1</td>\n",
       "      <td>-1.781213</td>\n",
       "      <td>c 1 c c c ( O C ) c ( N C C ( = O ) C ) c 1</td>\n",
       "    </tr>\n",
       "    <tr>\n",
       "      <th>1</th>\n",
       "      <td>1</td>\n",
       "      <td>OC(=O)C(=O)O.c1c2c(ccc1)C1(OCC(CN3CCOCC3)O1)c1...</td>\n",
       "      <td>-5.312473</td>\n",
       "      <td>O C ( = O ) C ( = O ) O . c 1 c 2 c ( c c c 1 ...</td>\n",
       "    </tr>\n",
       "    <tr>\n",
       "      <th>2</th>\n",
       "      <td>2</td>\n",
       "      <td>c1nc(N)cc(N)c1</td>\n",
       "      <td>0.333116</td>\n",
       "      <td>c 1 n c ( N ) c c ( N ) c 1</td>\n",
       "    </tr>\n",
       "    <tr>\n",
       "      <th>3</th>\n",
       "      <td>3</td>\n",
       "      <td>OC(c1ccc(SC#N)cc1)=O</td>\n",
       "      <td>-2.457441</td>\n",
       "      <td>O C ( c 1 c c c ( S C # N ) c c 1 ) = O</td>\n",
       "    </tr>\n",
       "    <tr>\n",
       "      <th>4</th>\n",
       "      <td>4</td>\n",
       "      <td>CN[C@@H](Cc1ccccc1)C.Cl</td>\n",
       "      <td>-1.144949</td>\n",
       "      <td>C N [C@@H] ( C c 1 c c c c c 1 ) C . Cl</td>\n",
       "    </tr>\n",
       "    <tr>\n",
       "      <th>...</th>\n",
       "      <td>...</td>\n",
       "      <td>...</td>\n",
       "      <td>...</td>\n",
       "      <td>...</td>\n",
       "    </tr>\n",
       "    <tr>\n",
       "      <th>16874</th>\n",
       "      <td>16874</td>\n",
       "      <td>Cn1c(=O)c2[nH]c(Cl)nc2n(C)c1=O.C1(c2ccccc2)OCC...</td>\n",
       "      <td>-1.105988</td>\n",
       "      <td>C n 1 c ( = O ) c 2 [nH] c ( Cl ) n c 2 n ( C ...</td>\n",
       "    </tr>\n",
       "    <tr>\n",
       "      <th>16875</th>\n",
       "      <td>16875</td>\n",
       "      <td>C(CC(COC(=O)N)(COC(N)=O)CC)=C</td>\n",
       "      <td>-2.021782</td>\n",
       "      <td>C ( C C ( C O C ( = O ) N ) ( C O C ( N ) = O ...</td>\n",
       "    </tr>\n",
       "    <tr>\n",
       "      <th>16876</th>\n",
       "      <td>16876</td>\n",
       "      <td>c1c2c(ccc1)Sc1ccc(Cl)cc1[C@@H](N1CC[C@H](N(CC)...</td>\n",
       "      <td>-6.755415</td>\n",
       "      <td>c 1 c 2 c ( c c c 1 ) S c 1 c c c ( Cl ) c c 1...</td>\n",
       "    </tr>\n",
       "    <tr>\n",
       "      <th>16877</th>\n",
       "      <td>16877</td>\n",
       "      <td>C(C(C(C)C)(C(N)=O)c1ccccc1)CN1CCOCC1</td>\n",
       "      <td>-2.714819</td>\n",
       "      <td>C ( C ( C ( C ) C ) ( C ( N ) = O ) c 1 c c c ...</td>\n",
       "    </tr>\n",
       "    <tr>\n",
       "      <th>16878</th>\n",
       "      <td>16878</td>\n",
       "      <td>c1cccc2c1CCCc1ccccc1C21C(=O)NC(=O)N1</td>\n",
       "      <td>-5.546284</td>\n",
       "      <td>c 1 c c c c 2 c 1 C C C c 1 c c c c c 1 C 21 C...</td>\n",
       "    </tr>\n",
       "  </tbody>\n",
       "</table>\n",
       "<p>16879 rows × 4 columns</p>\n",
       "</div>"
      ],
      "text/plain": [
       "       Unnamed: 0                                             SMILES  \\\n",
       "0               0                             c1ccc(OC)c(NCC(=O)C)c1   \n",
       "1               1  OC(=O)C(=O)O.c1c2c(ccc1)C1(OCC(CN3CCOCC3)O1)c1...   \n",
       "2               2                                     c1nc(N)cc(N)c1   \n",
       "3               3                               OC(c1ccc(SC#N)cc1)=O   \n",
       "4               4                            CN[C@@H](Cc1ccccc1)C.Cl   \n",
       "...           ...                                                ...   \n",
       "16874       16874  Cn1c(=O)c2[nH]c(Cl)nc2n(C)c1=O.C1(c2ccccc2)OCC...   \n",
       "16875       16875                      C(CC(COC(=O)N)(COC(N)=O)CC)=C   \n",
       "16876       16876  c1c2c(ccc1)Sc1ccc(Cl)cc1[C@@H](N1CC[C@H](N(CC)...   \n",
       "16877       16877               C(C(C(C)C)(C(N)=O)c1ccccc1)CN1CCOCC1   \n",
       "16878       16878               c1cccc2c1CCCc1ccccc1C21C(=O)NC(=O)N1   \n",
       "\n",
       "           logS                                                smi  \n",
       "0     -1.781213        c 1 c c c ( O C ) c ( N C C ( = O ) C ) c 1  \n",
       "1     -5.312473  O C ( = O ) C ( = O ) O . c 1 c 2 c ( c c c 1 ...  \n",
       "2      0.333116                        c 1 n c ( N ) c c ( N ) c 1  \n",
       "3     -2.457441            O C ( c 1 c c c ( S C # N ) c c 1 ) = O  \n",
       "4     -1.144949            C N [C@@H] ( C c 1 c c c c c 1 ) C . Cl  \n",
       "...         ...                                                ...  \n",
       "16874 -1.105988  C n 1 c ( = O ) c 2 [nH] c ( Cl ) n c 2 n ( C ...  \n",
       "16875 -2.021782  C ( C C ( C O C ( = O ) N ) ( C O C ( N ) = O ...  \n",
       "16876 -6.755415  c 1 c 2 c ( c c c 1 ) S c 1 c c c ( Cl ) c c 1...  \n",
       "16877 -2.714819  C ( C ( C ( C ) C ) ( C ( N ) = O ) c 1 c c c ...  \n",
       "16878 -5.546284  c 1 c c c c 2 c 1 C C C c 1 c c c c c 1 C 21 C...  \n",
       "\n",
       "[16879 rows x 4 columns]"
      ]
     },
     "execution_count": 20,
     "metadata": {},
     "output_type": "execute_result"
    }
   ],
   "source": [
    "valset"
   ]
  },
  {
   "cell_type": "code",
   "execution_count": null,
   "metadata": {},
   "outputs": [],
   "source": []
  }
 ],
 "metadata": {
  "kernelspec": {
   "display_name": "Python 3",
   "language": "python",
   "name": "python3"
  },
  "language_info": {
   "codemirror_mode": {
    "name": "ipython",
    "version": 3
   },
   "file_extension": ".py",
   "mimetype": "text/x-python",
   "name": "python",
   "nbconvert_exporter": "python",
   "pygments_lexer": "ipython3",
   "version": "3.6.7"
  }
 },
 "nbformat": 4,
 "nbformat_minor": 4
}
